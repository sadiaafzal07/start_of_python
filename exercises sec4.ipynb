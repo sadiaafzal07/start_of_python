{
 "cells": [
  {
   "cell_type": "markdown",
   "id": "24a4cdb0-9fdf-44fa-98f5-3ea775f92892",
   "metadata": {},
   "source": [
    "Answer the questions or complete the tasks outlined in bold below, use the specific method described if applicable.\r\n",
    "\r\n",
    "** What is 7 to the power of 4?**"
   ]
  },
  {
   "cell_type": "code",
   "execution_count": 18,
   "id": "26c637d8-8132-4f26-8fe7-a99d4b899818",
   "metadata": {},
   "outputs": [],
   "source": [
    "s = lambda num:num**4"
   ]
  },
  {
   "cell_type": "code",
   "execution_count": 19,
   "id": "c8252992-cfc6-4260-aad4-20da5fa69fcb",
   "metadata": {},
   "outputs": [
    {
     "data": {
      "text/plain": [
       "2401"
      ]
     },
     "execution_count": 19,
     "metadata": {},
     "output_type": "execute_result"
    }
   ],
   "source": [
    "s(7)"
   ]
  },
  {
   "cell_type": "code",
   "execution_count": 58,
   "id": "587b582e-b93b-4243-a166-2740dc21f9a1",
   "metadata": {},
   "outputs": [
    {
     "data": {
      "text/plain": [
       "2401"
      ]
     },
     "execution_count": 58,
     "metadata": {},
     "output_type": "execute_result"
    }
   ],
   "source": [
    "7**4"
   ]
  },
  {
   "cell_type": "markdown",
   "id": "95a21aff-6b61-4161-8b05-b5ac16eae0c5",
   "metadata": {},
   "source": [
    "2401\r\n",
    "** Split this string:**\r\n",
    "\r\n",
    "s = \"Hi there Sam!\"\r\n",
    "**into a list. **"
   ]
  },
  {
   "cell_type": "code",
   "execution_count": 20,
   "id": "cb2065da-74e7-4208-923b-e7863549c8c0",
   "metadata": {},
   "outputs": [],
   "source": [
    "s = \"Hi there Sam!\""
   ]
  },
  {
   "cell_type": "code",
   "execution_count": 21,
   "id": "24503737-2456-44b4-a1cd-9f75cba6ea45",
   "metadata": {},
   "outputs": [
    {
     "data": {
      "text/plain": [
       "['Hi', 'there', 'Sam!']"
      ]
     },
     "execution_count": 21,
     "metadata": {},
     "output_type": "execute_result"
    }
   ],
   "source": [
    "s.split()"
   ]
  },
  {
   "cell_type": "markdown",
   "id": "136d26d0-2d73-41bd-a6f7-98c4c4d14d76",
   "metadata": {},
   "source": [
    "** Given the variables:**\r\n",
    "\r\n",
    "planet = \"Earth\"\r\n",
    "diameter = 12742\r\n",
    "** Use .format() to print the following string: **\r\n",
    "\r\n",
    "The diameter of Earth is 12742 kilometers."
   ]
  },
  {
   "cell_type": "code",
   "execution_count": 24,
   "id": "8891fe1b-2c49-47ff-95c9-ff58e3e59d8f",
   "metadata": {},
   "outputs": [],
   "source": [
    "planet = 'earth'\n",
    "diameter = 12742"
   ]
  },
  {
   "cell_type": "code",
   "execution_count": 27,
   "id": "f48b04aa-855c-4a72-bf2b-48987307a0ca",
   "metadata": {},
   "outputs": [
    {
     "name": "stdout",
     "output_type": "stream",
     "text": [
      "The diameter of earth is 12742 kilometers\n"
     ]
    }
   ],
   "source": [
    "print('The diameter of {} is {} kilometers'.format(planet,diameter))"
   ]
  },
  {
   "cell_type": "markdown",
   "id": "05382dee-f2c9-4c93-9517-089ea4a39208",
   "metadata": {},
   "source": [
    "** Given this nested list, use indexing to grab the word \"hello\" **"
   ]
  },
  {
   "cell_type": "code",
   "execution_count": 28,
   "id": "4b7e92b9-59a0-471e-b776-90b1c4e2d5cf",
   "metadata": {},
   "outputs": [],
   "source": [
    "lst = [1,2,[3,4],[5,[100,200,['hello']],23,11],1,7]"
   ]
  },
  {
   "cell_type": "code",
   "execution_count": 57,
   "id": "f9602de0-59c0-4e4c-8273-5bdf0c66db49",
   "metadata": {},
   "outputs": [
    {
     "data": {
      "text/plain": [
       "'hello'"
      ]
     },
     "execution_count": 57,
     "metadata": {},
     "output_type": "execute_result"
    }
   ],
   "source": [
    "lst[3][1][2][0]"
   ]
  },
  {
   "cell_type": "markdown",
   "id": "95260a35-44bf-4711-862a-2cf471a37c90",
   "metadata": {},
   "source": [
    "** Given this nested dictionary grab the word \"hello\". Be prepared, this will be annoying/tricky **"
   ]
  },
  {
   "cell_type": "code",
   "execution_count": 37,
   "id": "61bb567d-d41c-4ff5-8bf0-82039cbf0baf",
   "metadata": {},
   "outputs": [],
   "source": [
    "d = {'k1':[1,2,3,{'tricky':['oh','man','inception',{'target':[1,2,3,'hello']}]}]}"
   ]
  },
  {
   "cell_type": "code",
   "execution_count": 52,
   "id": "04d65ba2-04c9-42ea-b662-8533008173f4",
   "metadata": {},
   "outputs": [
    {
     "data": {
      "text/plain": [
       "'hello'"
      ]
     },
     "execution_count": 52,
     "metadata": {},
     "output_type": "execute_result"
    }
   ],
   "source": [
    "d['k1'][3]['tricky'][3]['target'][3]"
   ]
  },
  {
   "cell_type": "markdown",
   "id": "cd70f496-2ba5-477a-aab1-bd497797cc19",
   "metadata": {},
   "source": [
    "** What is the main difference between a tuple and a list? **"
   ]
  },
  {
   "cell_type": "code",
   "execution_count": null,
   "id": "63fcf946-0354-463a-a6f1-86f1d7c21c09",
   "metadata": {},
   "outputs": [],
   "source": [
    "# Tuple is immutable"
   ]
  },
  {
   "cell_type": "markdown",
   "id": "7a9ad8e8-cc3a-4963-ae92-fee066e9a6a6",
   "metadata": {},
   "source": [
    "** Create a function that grabs the email website domain from a string in the form: **\r\n",
    "\r\n",
    "user@domain.com\r\n",
    "So for example, passing \"user@domain.com\" would return: domain.com"
   ]
  },
  {
   "cell_type": "code",
   "execution_count": 64,
   "id": "fcd674a7-c49a-4295-858e-96f530d45f0d",
   "metadata": {},
   "outputs": [],
   "source": [
    "def domainGet(email):\n",
    "    return email.split('@')[1]"
   ]
  },
  {
   "cell_type": "code",
   "execution_count": 65,
   "id": "5c98fe96-89bc-4e2c-a1bf-86192eeefaf3",
   "metadata": {},
   "outputs": [
    {
     "data": {
      "text/plain": [
       "'domain.com'"
      ]
     },
     "execution_count": 65,
     "metadata": {},
     "output_type": "execute_result"
    }
   ],
   "source": [
    "domainGet('user@domain.com')"
   ]
  },
  {
   "cell_type": "markdown",
   "id": "c3eb53d6-37d3-437f-8034-ac5c20e573b0",
   "metadata": {},
   "source": [
    "** Create a basic function that returns True if the word 'dog' is contained in the input string. Don't worry about edge cases like a punctuation being attached to the word dog, but do account for capitalization. **"
   ]
  },
  {
   "cell_type": "code",
   "execution_count": 66,
   "id": "85a0380f-a31d-451b-a7eb-25c90d6dfcb3",
   "metadata": {},
   "outputs": [],
   "source": [
    "s = \"Is there dog here!\""
   ]
  },
  {
   "cell_type": "code",
   "execution_count": 78,
   "id": "db0425ce-3be4-4633-b3b6-5c4e832541a7",
   "metadata": {},
   "outputs": [],
   "source": [
    "def findDog(s):\n",
    "    return  'dog' in s.lower().split()"
   ]
  },
  {
   "cell_type": "code",
   "execution_count": 79,
   "id": "d4f3d4f3-8b8f-4c66-bd8a-9bfccf9b238f",
   "metadata": {},
   "outputs": [
    {
     "data": {
      "text/plain": [
       "True"
      ]
     },
     "execution_count": 79,
     "metadata": {},
     "output_type": "execute_result"
    }
   ],
   "source": [
    "findDog(s)"
   ]
  },
  {
   "cell_type": "markdown",
   "id": "e5e7d9e7-a14a-457e-9be7-962a0c6c34c7",
   "metadata": {},
   "source": [
    "** Create a function that counts the number of times the word \"dog\" occurs in a string. Again ignore edge cases. **"
   ]
  },
  {
   "cell_type": "code",
   "execution_count": 80,
   "id": "d4ea4eae-8b92-4e63-a56a-c861cbf959e2",
   "metadata": {},
   "outputs": [],
   "source": [
    "st='This dog runs faster than the other dog dude!'"
   ]
  },
  {
   "cell_type": "code",
   "execution_count": 90,
   "id": "ecd32d23-c379-486d-b288-d56dc1c6c610",
   "metadata": {},
   "outputs": [],
   "source": [
    "def countDog(st):\n",
    "    count = 0\n",
    "    for word in st.lower().split():\n",
    "        if (word == 'dog'):\n",
    "            count += 1\n",
    "    return count"
   ]
  },
  {
   "cell_type": "code",
   "execution_count": 91,
   "id": "4059e65e-4a0b-400f-b995-e1774273e2f4",
   "metadata": {},
   "outputs": [
    {
     "data": {
      "text/plain": [
       "2"
      ]
     },
     "execution_count": 91,
     "metadata": {},
     "output_type": "execute_result"
    }
   ],
   "source": [
    "countDog(st)"
   ]
  },
  {
   "cell_type": "markdown",
   "id": "7de14fe2-ab5f-4db0-be08-79f1483169d6",
   "metadata": {},
   "source": [
    "** Use lambda expressions and the filter() function to filter out words from a list that don't start with the letter 's'. For example:**\n",
    "\n",
    "seq = ['soup','dog','salad','cat','great']\n",
    "should be filtered down to:\n",
    "\n",
    "['soup','salad']\n"
   ]
  },
  {
   "cell_type": "code",
   "execution_count": 92,
   "id": "40b60b3f-3844-48f5-9ea4-b9974617f928",
   "metadata": {},
   "outputs": [],
   "source": [
    "seq = ['soup','dog','salad','cat','great']"
   ]
  },
  {
   "cell_type": "code",
   "execution_count": 97,
   "id": "691c04ce-ee8c-4329-affd-32a28ed15ea7",
   "metadata": {},
   "outputs": [
    {
     "data": {
      "text/plain": [
       "['soup', 'salad']"
      ]
     },
     "execution_count": 97,
     "metadata": {},
     "output_type": "execute_result"
    }
   ],
   "source": [
    "list (filter(lambda word:word[0]=='s',seq))"
   ]
  },
  {
   "cell_type": "markdown",
   "id": "74c8c04b-07c1-47e7-8d8b-c5ae992906ba",
   "metadata": {},
   "source": [
    "\n",
    "**You are driving a little too fast, and a police officer stops you. Write a function to return one of 3 possible results: \"No ticket\", \"Small ticket\", or \"Big Ticket\". If your speed is 60 or less, the result is \"No Ticket\". If speed is between 61 and 80 inclusive, the result is \"Small Ticket\". If speed is 81 or more, the result is \"Big Ticket\". Unless it is your birthday (encoded as a boolean value in the parameters of the function) -- on your birthday, your speed can be 5 higher in all cases. **"
   ]
  },
  {
   "cell_type": "code",
   "execution_count": 102,
   "id": "78b8368b-be1a-4ae8-8426-75cfaaee5c0f",
   "metadata": {},
   "outputs": [],
   "source": [
    "def caught_speeding(speed, is_birthday):\n",
    "    if is_birthday:\n",
    "        speeding = speed - 5\n",
    "    else:\n",
    "        speeding = speed\n",
    "    \n",
    "    if(speeding > 80):\n",
    "         return 'big ticket'\n",
    "    elif(speeding> 60 ):\n",
    "         return 'small ticket'\n",
    "    else :\n",
    "         return 'no ticket'"
   ]
  },
  {
   "cell_type": "code",
   "execution_count": 104,
   "id": "c24cea46-8481-48a7-aac7-59fa9e7a85ad",
   "metadata": {},
   "outputs": [
    {
     "data": {
      "text/plain": [
       "'small ticket'"
      ]
     },
     "execution_count": 104,
     "metadata": {},
     "output_type": "execute_result"
    }
   ],
   "source": [
    "caught_speeding(81,True)"
   ]
  },
  {
   "cell_type": "code",
   "execution_count": 105,
   "id": "92875a9f-1abf-4ceb-9762-3f0c8ac66b33",
   "metadata": {},
   "outputs": [
    {
     "data": {
      "text/plain": [
       "'small ticket'"
      ]
     },
     "execution_count": 105,
     "metadata": {},
     "output_type": "execute_result"
    }
   ],
   "source": [
    "caught_speeding(80,False)"
   ]
  },
  {
   "cell_type": "markdown",
   "id": "2302173e-85b0-4d43-b383-61a3d8346121",
   "metadata": {},
   "source": []
  }
 ],
 "metadata": {
  "kernelspec": {
   "display_name": "Python 3 (ipykernel)",
   "language": "python",
   "name": "python3"
  },
  "language_info": {
   "codemirror_mode": {
    "name": "ipython",
    "version": 3
   },
   "file_extension": ".py",
   "mimetype": "text/x-python",
   "name": "python",
   "nbconvert_exporter": "python",
   "pygments_lexer": "ipython3",
   "version": "3.12.4"
  }
 },
 "nbformat": 4,
 "nbformat_minor": 5
}
